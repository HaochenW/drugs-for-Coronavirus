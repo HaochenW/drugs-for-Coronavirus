{
 "cells": [
  {
   "cell_type": "markdown",
   "metadata": {},
   "source": [
    "# Drug repurposing and Molecular generation methods\n",
    "\n",
    "We utilized the deep learning based methods to find a candidate drug (ligand) with a high binding affinity with the 2019-COVID main protease. In summary, we used the deep convolutional model to calculate the drug-target interaction, and selected the potential molecular that has the high affinity with the protein target of 2019-COVID. We would briefly discuss the detail of our method.\n",
    "\n",
    "\n",
    "## Target protein selection\n",
    "\n",
    "We selected 5 protein of the virus 2019-COVID as the target protein, which include YP_009725301.1 (3C-like proteinase), YP_009725307.1 (RNA-dependent RNA polymerase), YP_009725308.1 (helicase), YP_009725310.1 (endoRNAse), YP_009725311.1 (2'-O-ribose methyltransferase). The selected protein is nearly the same as the target protein selection in [1].\n",
    "\n",
    "## Potential molecular component dataset selection\n",
    "\n",
    "We selected the SureChEMBL [2] dataset as our pool of potential molecule. SureChEMBL is a publicly available large-scale resource containing compounds extracted from the full text, images and attachments of patent documents [2]. The reason we selected SureChEMBL dataset was because its components are from potent, which means they have more potential to be synthesized and used clinically. \n",
    "\n",
    "\n",
    "## Deep model for drug-target interaction\n",
    "\n",
    "We trained the DeepDTA model [3] to select the possible drugs from potential molecular dataset. The model inputs are the SMILE format molecules and 1D protein sequences, and the output is the binding affinity between molecule and protein. The structure of model is shown as:\n",
    "\n",
    "![Model structure](https://github.com/HaochenW/drugs-for-Coronavirus/blob/master/build_combined_categorical.png)\n",
    "\n",
    "\n",
    "\n",
    "## The high affinity molecular results\n",
    "The highest binding affinity of potential molecular components were selected, we selected 29 molecules, as shown in [drug_smile.txt](https://github.com/HaochenW/drugs-for-Coronavirus/blob/master/drug_smile.txt). Here, binding affintiy is used the predicted respective dissociation constant value ($K_d$).\n",
    "\n",
    "\n",
    "\n",
    "\n",
    "## References\n",
    "\n",
    "[1] Richardson P, Griffin I, Tucker C, et al. Baricitinib as potential treatment for 2019-nCoV acute respiratory disease[J]. The Lancet, 2020.  \n",
    "[2] Papadatos G, Davies M, Dedman N, et al. SureChEMBL: a large-scale, chemically annotated patent document database[J]. Nucleic acids research, 2016, 44(D1): D1220-D1228.  \n",
    "[3] Öztürk H, Özgür A, Ozkirimli E. DeepDTA: deep drug–target binding affinity prediction[J]. Bioinformatics, 2018, 34(17): i821-i829.  \n",
    "\n"
   ]
  }
 ],
 "metadata": {
  "kernelspec": {
   "display_name": "Python 3",
   "language": "python",
   "name": "python3"
  },
  "language_info": {
   "codemirror_mode": {
    "name": "ipython",
    "version": 3
   },
   "file_extension": ".py",
   "mimetype": "text/x-python",
   "name": "python",
   "nbconvert_exporter": "python",
   "pygments_lexer": "ipython3",
   "version": "3.6.0"
  }
 },
 "nbformat": 4,
 "nbformat_minor": 2
}
